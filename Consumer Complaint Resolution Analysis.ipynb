{
 "cells": [
  {
   "cell_type": "markdown",
   "id": "735a341f",
   "metadata": {},
   "source": [
    "# Consumer Complaint Resoultion Analysis"
   ]
  },
  {
   "cell_type": "markdown",
   "id": "d3c3bf99",
   "metadata": {},
   "source": [
    "#### Reading the data"
   ]
  },
  {
   "cell_type": "code",
   "execution_count": 1,
   "id": "6b268ac2",
   "metadata": {},
   "outputs": [],
   "source": [
    "import pandas as pd\n",
    "train = pd.read_csv(r'C:\\\\Users\\\\madhu\\\\OneDrive\\\\Desktop\\\\Edureka\\\\mini project 2\\\\Datasets\\\\Consumer_Complaints_train.csv')\n",
    "test = pd.read_csv(r'C:\\\\Users\\\\madhu\\\\OneDrive\\\\Desktop\\\\Edureka\\\\mini project 2\\\\Datasets\\\\Consumer_Complaints_test.csv')"
   ]
  },
  {
   "cell_type": "code",
   "execution_count": 2,
   "id": "a6c0aba6",
   "metadata": {},
   "outputs": [
    {
     "data": {
      "text/html": [
       "<div>\n",
       "<style scoped>\n",
       "    .dataframe tbody tr th:only-of-type {\n",
       "        vertical-align: middle;\n",
       "    }\n",
       "\n",
       "    .dataframe tbody tr th {\n",
       "        vertical-align: top;\n",
       "    }\n",
       "\n",
       "    .dataframe thead th {\n",
       "        text-align: right;\n",
       "    }\n",
       "</style>\n",
       "<table border=\"1\" class=\"dataframe\">\n",
       "  <thead>\n",
       "    <tr style=\"text-align: right;\">\n",
       "      <th></th>\n",
       "      <th>Date received</th>\n",
       "      <th>Product</th>\n",
       "      <th>Sub-product</th>\n",
       "      <th>Issue</th>\n",
       "      <th>Sub-issue</th>\n",
       "      <th>Consumer complaint narrative</th>\n",
       "      <th>Company public response</th>\n",
       "      <th>Company</th>\n",
       "      <th>State</th>\n",
       "      <th>ZIP code</th>\n",
       "      <th>Tags</th>\n",
       "      <th>Consumer consent provided?</th>\n",
       "      <th>Submitted via</th>\n",
       "      <th>Date sent to company</th>\n",
       "      <th>Company response to consumer</th>\n",
       "      <th>Timely response?</th>\n",
       "      <th>Consumer disputed?</th>\n",
       "      <th>Complaint ID</th>\n",
       "    </tr>\n",
       "  </thead>\n",
       "  <tbody>\n",
       "    <tr>\n",
       "      <th>0</th>\n",
       "      <td>2015-10-14</td>\n",
       "      <td>Credit reporting</td>\n",
       "      <td>NaN</td>\n",
       "      <td>Incorrect information on credit report</td>\n",
       "      <td>Information is not mine</td>\n",
       "      <td>NaN</td>\n",
       "      <td>NaN</td>\n",
       "      <td>Equifax</td>\n",
       "      <td>GA</td>\n",
       "      <td>30134</td>\n",
       "      <td>NaN</td>\n",
       "      <td>Consent not provided</td>\n",
       "      <td>Web</td>\n",
       "      <td>2015-10-14</td>\n",
       "      <td>Closed with explanation</td>\n",
       "      <td>Yes</td>\n",
       "      <td>No</td>\n",
       "      <td>1605653</td>\n",
       "    </tr>\n",
       "    <tr>\n",
       "      <th>1</th>\n",
       "      <td>2015-04-26</td>\n",
       "      <td>Bank account or service</td>\n",
       "      <td>Other bank product/service</td>\n",
       "      <td>Deposits and withdrawals</td>\n",
       "      <td>NaN</td>\n",
       "      <td>RE : XXXX XXXX XXXX-PRIVILEGED AND CONFIDENTIA...</td>\n",
       "      <td>NaN</td>\n",
       "      <td>Wells Fargo &amp; Company</td>\n",
       "      <td>GA</td>\n",
       "      <td>319XX</td>\n",
       "      <td>NaN</td>\n",
       "      <td>Consent provided</td>\n",
       "      <td>Web</td>\n",
       "      <td>2015-04-26</td>\n",
       "      <td>Closed with explanation</td>\n",
       "      <td>Yes</td>\n",
       "      <td>Yes</td>\n",
       "      <td>1347613</td>\n",
       "    </tr>\n",
       "    <tr>\n",
       "      <th>2</th>\n",
       "      <td>2013-12-20</td>\n",
       "      <td>Credit card</td>\n",
       "      <td>NaN</td>\n",
       "      <td>Other</td>\n",
       "      <td>NaN</td>\n",
       "      <td>NaN</td>\n",
       "      <td>NaN</td>\n",
       "      <td>Citibank</td>\n",
       "      <td>SC</td>\n",
       "      <td>29203</td>\n",
       "      <td>NaN</td>\n",
       "      <td>NaN</td>\n",
       "      <td>Phone</td>\n",
       "      <td>2014-01-03</td>\n",
       "      <td>Closed with non-monetary relief</td>\n",
       "      <td>Yes</td>\n",
       "      <td>No</td>\n",
       "      <td>640394</td>\n",
       "    </tr>\n",
       "    <tr>\n",
       "      <th>3</th>\n",
       "      <td>2016-03-03</td>\n",
       "      <td>Debt collection</td>\n",
       "      <td>Other (i.e. phone, health club, etc.)</td>\n",
       "      <td>Disclosure verification of debt</td>\n",
       "      <td>Not given enough info to verify debt</td>\n",
       "      <td>NaN</td>\n",
       "      <td>Company has responded to the consumer and the ...</td>\n",
       "      <td>FAIR COLLECTIONS &amp; OUTSOURCING, INC.</td>\n",
       "      <td>OH</td>\n",
       "      <td>43082</td>\n",
       "      <td>NaN</td>\n",
       "      <td>NaN</td>\n",
       "      <td>Referral</td>\n",
       "      <td>2016-03-04</td>\n",
       "      <td>Closed with explanation</td>\n",
       "      <td>Yes</td>\n",
       "      <td>No</td>\n",
       "      <td>1815134</td>\n",
       "    </tr>\n",
       "    <tr>\n",
       "      <th>4</th>\n",
       "      <td>2015-01-30</td>\n",
       "      <td>Debt collection</td>\n",
       "      <td>Medical</td>\n",
       "      <td>Disclosure verification of debt</td>\n",
       "      <td>Not given enough info to verify debt</td>\n",
       "      <td>NaN</td>\n",
       "      <td>NaN</td>\n",
       "      <td>HCFS Health Care Financial Services, Inc.</td>\n",
       "      <td>CA</td>\n",
       "      <td>90036</td>\n",
       "      <td>NaN</td>\n",
       "      <td>NaN</td>\n",
       "      <td>Web</td>\n",
       "      <td>2015-01-30</td>\n",
       "      <td>Closed with explanation</td>\n",
       "      <td>Yes</td>\n",
       "      <td>Yes</td>\n",
       "      <td>1218613</td>\n",
       "    </tr>\n",
       "  </tbody>\n",
       "</table>\n",
       "</div>"
      ],
      "text/plain": [
       "  Date received                  Product  \\\n",
       "0    2015-10-14         Credit reporting   \n",
       "1    2015-04-26  Bank account or service   \n",
       "2    2013-12-20              Credit card   \n",
       "3    2016-03-03          Debt collection   \n",
       "4    2015-01-30          Debt collection   \n",
       "\n",
       "                             Sub-product  \\\n",
       "0                                    NaN   \n",
       "1             Other bank product/service   \n",
       "2                                    NaN   \n",
       "3  Other (i.e. phone, health club, etc.)   \n",
       "4                                Medical   \n",
       "\n",
       "                                    Issue  \\\n",
       "0  Incorrect information on credit report   \n",
       "1                Deposits and withdrawals   \n",
       "2                                   Other   \n",
       "3         Disclosure verification of debt   \n",
       "4         Disclosure verification of debt   \n",
       "\n",
       "                              Sub-issue  \\\n",
       "0               Information is not mine   \n",
       "1                                   NaN   \n",
       "2                                   NaN   \n",
       "3  Not given enough info to verify debt   \n",
       "4  Not given enough info to verify debt   \n",
       "\n",
       "                        Consumer complaint narrative  \\\n",
       "0                                                NaN   \n",
       "1  RE : XXXX XXXX XXXX-PRIVILEGED AND CONFIDENTIA...   \n",
       "2                                                NaN   \n",
       "3                                                NaN   \n",
       "4                                                NaN   \n",
       "\n",
       "                             Company public response  \\\n",
       "0                                                NaN   \n",
       "1                                                NaN   \n",
       "2                                                NaN   \n",
       "3  Company has responded to the consumer and the ...   \n",
       "4                                                NaN   \n",
       "\n",
       "                                     Company State ZIP code Tags  \\\n",
       "0                                    Equifax    GA    30134  NaN   \n",
       "1                      Wells Fargo & Company    GA    319XX  NaN   \n",
       "2                                   Citibank    SC    29203  NaN   \n",
       "3       FAIR COLLECTIONS & OUTSOURCING, INC.    OH    43082  NaN   \n",
       "4  HCFS Health Care Financial Services, Inc.    CA    90036  NaN   \n",
       "\n",
       "  Consumer consent provided? Submitted via Date sent to company  \\\n",
       "0       Consent not provided           Web           2015-10-14   \n",
       "1           Consent provided           Web           2015-04-26   \n",
       "2                        NaN         Phone           2014-01-03   \n",
       "3                        NaN      Referral           2016-03-04   \n",
       "4                        NaN           Web           2015-01-30   \n",
       "\n",
       "      Company response to consumer Timely response? Consumer disputed?  \\\n",
       "0          Closed with explanation              Yes                 No   \n",
       "1          Closed with explanation              Yes                Yes   \n",
       "2  Closed with non-monetary relief              Yes                 No   \n",
       "3          Closed with explanation              Yes                 No   \n",
       "4          Closed with explanation              Yes                Yes   \n",
       "\n",
       "   Complaint ID  \n",
       "0       1605653  \n",
       "1       1347613  \n",
       "2        640394  \n",
       "3       1815134  \n",
       "4       1218613  "
      ]
     },
     "execution_count": 2,
     "metadata": {},
     "output_type": "execute_result"
    }
   ],
   "source": [
    "train.head()"
   ]
  },
  {
   "cell_type": "markdown",
   "id": "9eff1cac",
   "metadata": {},
   "source": [
    "### Checking the data types"
   ]
  },
  {
   "cell_type": "code",
   "execution_count": 3,
   "id": "52013581",
   "metadata": {},
   "outputs": [
    {
     "name": "stdout",
     "output_type": "stream",
     "text": [
      "Data types in train data\n",
      "Date received                   object\n",
      "Product                         object\n",
      "Sub-product                     object\n",
      "Issue                           object\n",
      "Sub-issue                       object\n",
      "Consumer complaint narrative    object\n",
      "Company public response         object\n",
      "Company                         object\n",
      "State                           object\n",
      "ZIP code                        object\n",
      "Tags                            object\n",
      "Consumer consent provided?      object\n",
      "Submitted via                   object\n",
      "Date sent to company            object\n",
      "Company response to consumer    object\n",
      "Timely response?                object\n",
      "Consumer disputed?              object\n",
      "Complaint ID                     int64\n",
      "dtype: object\n",
      "   \n",
      "\n",
      "Data types in test data\n",
      "Date received                   object\n",
      "Product                         object\n",
      "Sub-product                     object\n",
      "Issue                           object\n",
      "Sub-issue                       object\n",
      "Consumer complaint narrative    object\n",
      "Company public response         object\n",
      "Company                         object\n",
      "State                           object\n",
      "ZIP code                        object\n",
      "Tags                            object\n",
      "Consumer consent provided?      object\n",
      "Submitted via                   object\n",
      "Date sent to company            object\n",
      "Company response to consumer    object\n",
      "Timely response?                object\n",
      "Complaint ID                     int64\n",
      "dtype: object\n"
     ]
    }
   ],
   "source": [
    "print('Data types in train data')\n",
    "print(train.dtypes)\n",
    "print('   \\n')\n",
    "print('Data types in test data')\n",
    "print(test.dtypes)"
   ]
  },
  {
   "cell_type": "markdown",
   "id": "75ce523b",
   "metadata": {},
   "source": [
    "### Missing value analysis and dropping the columns with >25% missing values"
   ]
  },
  {
   "cell_type": "code",
   "execution_count": 4,
   "id": "b704bb37",
   "metadata": {},
   "outputs": [
    {
     "data": {
      "text/plain": [
       "2                      Sub-product\n",
       "4                        Sub-issue\n",
       "5     Consumer complaint narrative\n",
       "6          Company public response\n",
       "10                            Tags\n",
       "11      Consumer consent provided?\n",
       "Name: Features, dtype: object"
      ]
     },
     "execution_count": 4,
     "metadata": {},
     "output_type": "execute_result"
    }
   ],
   "source": [
    "s = train.isnull().sum()\n",
    "Nulls = train.isnull().sum()>(train.shape[0]*.25)\n",
    "Nulls = pd.DataFrame({'Features':Nulls.index, 'nulls':Nulls.values})\n",
    "Drop = Nulls[Nulls.nulls == True]\n",
    "Drop.Features"
   ]
  },
  {
   "cell_type": "code",
   "execution_count": 5,
   "id": "87c54b5a",
   "metadata": {},
   "outputs": [],
   "source": [
    "train_new = train.drop(columns =Drop.Features)"
   ]
  },
  {
   "cell_type": "markdown",
   "id": "badc0c0f",
   "metadata": {},
   "source": [
    "### Etracting the day, month and year column from Date column"
   ]
  },
  {
   "cell_type": "code",
   "execution_count": 6,
   "id": "61308d6b",
   "metadata": {},
   "outputs": [
    {
     "data": {
      "text/html": [
       "<div>\n",
       "<style scoped>\n",
       "    .dataframe tbody tr th:only-of-type {\n",
       "        vertical-align: middle;\n",
       "    }\n",
       "\n",
       "    .dataframe tbody tr th {\n",
       "        vertical-align: top;\n",
       "    }\n",
       "\n",
       "    .dataframe thead th {\n",
       "        text-align: right;\n",
       "    }\n",
       "</style>\n",
       "<table border=\"1\" class=\"dataframe\">\n",
       "  <thead>\n",
       "    <tr style=\"text-align: right;\">\n",
       "      <th></th>\n",
       "      <th>Date received</th>\n",
       "      <th>Product</th>\n",
       "      <th>Issue</th>\n",
       "      <th>Company</th>\n",
       "      <th>State</th>\n",
       "      <th>ZIP code</th>\n",
       "      <th>Submitted via</th>\n",
       "      <th>Date sent to company</th>\n",
       "      <th>Company response to consumer</th>\n",
       "      <th>Timely response?</th>\n",
       "      <th>Consumer disputed?</th>\n",
       "      <th>Complaint ID</th>\n",
       "      <th>Day</th>\n",
       "      <th>Month</th>\n",
       "      <th>Year</th>\n",
       "    </tr>\n",
       "  </thead>\n",
       "  <tbody>\n",
       "    <tr>\n",
       "      <th>0</th>\n",
       "      <td>2015-10-14</td>\n",
       "      <td>Credit reporting</td>\n",
       "      <td>Incorrect information on credit report</td>\n",
       "      <td>Equifax</td>\n",
       "      <td>GA</td>\n",
       "      <td>30134</td>\n",
       "      <td>Web</td>\n",
       "      <td>2015-10-14</td>\n",
       "      <td>Closed with explanation</td>\n",
       "      <td>Yes</td>\n",
       "      <td>No</td>\n",
       "      <td>1605653</td>\n",
       "      <td>14</td>\n",
       "      <td>10</td>\n",
       "      <td>2015</td>\n",
       "    </tr>\n",
       "    <tr>\n",
       "      <th>1</th>\n",
       "      <td>2015-04-26</td>\n",
       "      <td>Bank account or service</td>\n",
       "      <td>Deposits and withdrawals</td>\n",
       "      <td>Wells Fargo &amp; Company</td>\n",
       "      <td>GA</td>\n",
       "      <td>319XX</td>\n",
       "      <td>Web</td>\n",
       "      <td>2015-04-26</td>\n",
       "      <td>Closed with explanation</td>\n",
       "      <td>Yes</td>\n",
       "      <td>Yes</td>\n",
       "      <td>1347613</td>\n",
       "      <td>26</td>\n",
       "      <td>04</td>\n",
       "      <td>2015</td>\n",
       "    </tr>\n",
       "    <tr>\n",
       "      <th>2</th>\n",
       "      <td>2013-12-20</td>\n",
       "      <td>Credit card</td>\n",
       "      <td>Other</td>\n",
       "      <td>Citibank</td>\n",
       "      <td>SC</td>\n",
       "      <td>29203</td>\n",
       "      <td>Phone</td>\n",
       "      <td>2014-01-03</td>\n",
       "      <td>Closed with non-monetary relief</td>\n",
       "      <td>Yes</td>\n",
       "      <td>No</td>\n",
       "      <td>640394</td>\n",
       "      <td>20</td>\n",
       "      <td>12</td>\n",
       "      <td>2013</td>\n",
       "    </tr>\n",
       "    <tr>\n",
       "      <th>3</th>\n",
       "      <td>2016-03-03</td>\n",
       "      <td>Debt collection</td>\n",
       "      <td>Disclosure verification of debt</td>\n",
       "      <td>FAIR COLLECTIONS &amp; OUTSOURCING, INC.</td>\n",
       "      <td>OH</td>\n",
       "      <td>43082</td>\n",
       "      <td>Referral</td>\n",
       "      <td>2016-03-04</td>\n",
       "      <td>Closed with explanation</td>\n",
       "      <td>Yes</td>\n",
       "      <td>No</td>\n",
       "      <td>1815134</td>\n",
       "      <td>03</td>\n",
       "      <td>03</td>\n",
       "      <td>2016</td>\n",
       "    </tr>\n",
       "    <tr>\n",
       "      <th>4</th>\n",
       "      <td>2015-01-30</td>\n",
       "      <td>Debt collection</td>\n",
       "      <td>Disclosure verification of debt</td>\n",
       "      <td>HCFS Health Care Financial Services, Inc.</td>\n",
       "      <td>CA</td>\n",
       "      <td>90036</td>\n",
       "      <td>Web</td>\n",
       "      <td>2015-01-30</td>\n",
       "      <td>Closed with explanation</td>\n",
       "      <td>Yes</td>\n",
       "      <td>Yes</td>\n",
       "      <td>1218613</td>\n",
       "      <td>30</td>\n",
       "      <td>01</td>\n",
       "      <td>2015</td>\n",
       "    </tr>\n",
       "  </tbody>\n",
       "</table>\n",
       "</div>"
      ],
      "text/plain": [
       "  Date received                  Product  \\\n",
       "0    2015-10-14         Credit reporting   \n",
       "1    2015-04-26  Bank account or service   \n",
       "2    2013-12-20              Credit card   \n",
       "3    2016-03-03          Debt collection   \n",
       "4    2015-01-30          Debt collection   \n",
       "\n",
       "                                    Issue  \\\n",
       "0  Incorrect information on credit report   \n",
       "1                Deposits and withdrawals   \n",
       "2                                   Other   \n",
       "3         Disclosure verification of debt   \n",
       "4         Disclosure verification of debt   \n",
       "\n",
       "                                     Company State ZIP code Submitted via  \\\n",
       "0                                    Equifax    GA    30134           Web   \n",
       "1                      Wells Fargo & Company    GA    319XX           Web   \n",
       "2                                   Citibank    SC    29203         Phone   \n",
       "3       FAIR COLLECTIONS & OUTSOURCING, INC.    OH    43082      Referral   \n",
       "4  HCFS Health Care Financial Services, Inc.    CA    90036           Web   \n",
       "\n",
       "  Date sent to company     Company response to consumer Timely response?  \\\n",
       "0           2015-10-14          Closed with explanation              Yes   \n",
       "1           2015-04-26          Closed with explanation              Yes   \n",
       "2           2014-01-03  Closed with non-monetary relief              Yes   \n",
       "3           2016-03-04          Closed with explanation              Yes   \n",
       "4           2015-01-30          Closed with explanation              Yes   \n",
       "\n",
       "  Consumer disputed?  Complaint ID Day Month  Year  \n",
       "0                 No       1605653  14    10  2015  \n",
       "1                Yes       1347613  26    04  2015  \n",
       "2                 No        640394  20    12  2013  \n",
       "3                 No       1815134  03    03  2016  \n",
       "4                Yes       1218613  30    01  2015  "
      ]
     },
     "execution_count": 6,
     "metadata": {},
     "output_type": "execute_result"
    }
   ],
   "source": [
    "Date_received = train_new['Date received'].str.split('-')\n",
    "train_new['Day'] = Date_received.str[2]\n",
    "train_new['Month'] = Date_received.str[1]\n",
    "train_new['Year'] = Date_received.str[0]\n",
    "train_new.head()"
   ]
  },
  {
   "cell_type": "markdown",
   "id": "ae20eff9",
   "metadata": {},
   "source": [
    "### Creating new column “Days held” for Number of Days the Complaint was with the Company"
   ]
  },
  {
   "cell_type": "code",
   "execution_count": 7,
   "id": "43bf0829",
   "metadata": {
    "scrolled": true
   },
   "outputs": [
    {
     "data": {
      "text/html": [
       "<div>\n",
       "<style scoped>\n",
       "    .dataframe tbody tr th:only-of-type {\n",
       "        vertical-align: middle;\n",
       "    }\n",
       "\n",
       "    .dataframe tbody tr th {\n",
       "        vertical-align: top;\n",
       "    }\n",
       "\n",
       "    .dataframe thead th {\n",
       "        text-align: right;\n",
       "    }\n",
       "</style>\n",
       "<table border=\"1\" class=\"dataframe\">\n",
       "  <thead>\n",
       "    <tr style=\"text-align: right;\">\n",
       "      <th></th>\n",
       "      <th>Date received</th>\n",
       "      <th>Product</th>\n",
       "      <th>Issue</th>\n",
       "      <th>Company</th>\n",
       "      <th>State</th>\n",
       "      <th>ZIP code</th>\n",
       "      <th>Submitted via</th>\n",
       "      <th>Date sent to company</th>\n",
       "      <th>Company response to consumer</th>\n",
       "      <th>Timely response?</th>\n",
       "      <th>Consumer disputed?</th>\n",
       "      <th>Complaint ID</th>\n",
       "      <th>Day</th>\n",
       "      <th>Month</th>\n",
       "      <th>Year</th>\n",
       "      <th>Days held</th>\n",
       "    </tr>\n",
       "  </thead>\n",
       "  <tbody>\n",
       "    <tr>\n",
       "      <th>0</th>\n",
       "      <td>2015-10-14</td>\n",
       "      <td>Credit reporting</td>\n",
       "      <td>Incorrect information on credit report</td>\n",
       "      <td>Equifax</td>\n",
       "      <td>GA</td>\n",
       "      <td>30134</td>\n",
       "      <td>Web</td>\n",
       "      <td>2015-10-14</td>\n",
       "      <td>Closed with explanation</td>\n",
       "      <td>Yes</td>\n",
       "      <td>No</td>\n",
       "      <td>1605653</td>\n",
       "      <td>14</td>\n",
       "      <td>10</td>\n",
       "      <td>2015</td>\n",
       "      <td>0 days</td>\n",
       "    </tr>\n",
       "    <tr>\n",
       "      <th>1</th>\n",
       "      <td>2015-04-26</td>\n",
       "      <td>Bank account or service</td>\n",
       "      <td>Deposits and withdrawals</td>\n",
       "      <td>Wells Fargo &amp; Company</td>\n",
       "      <td>GA</td>\n",
       "      <td>319XX</td>\n",
       "      <td>Web</td>\n",
       "      <td>2015-04-26</td>\n",
       "      <td>Closed with explanation</td>\n",
       "      <td>Yes</td>\n",
       "      <td>Yes</td>\n",
       "      <td>1347613</td>\n",
       "      <td>26</td>\n",
       "      <td>04</td>\n",
       "      <td>2015</td>\n",
       "      <td>0 days</td>\n",
       "    </tr>\n",
       "    <tr>\n",
       "      <th>2</th>\n",
       "      <td>2013-12-20</td>\n",
       "      <td>Credit card</td>\n",
       "      <td>Other</td>\n",
       "      <td>Citibank</td>\n",
       "      <td>SC</td>\n",
       "      <td>29203</td>\n",
       "      <td>Phone</td>\n",
       "      <td>2014-01-03</td>\n",
       "      <td>Closed with non-monetary relief</td>\n",
       "      <td>Yes</td>\n",
       "      <td>No</td>\n",
       "      <td>640394</td>\n",
       "      <td>20</td>\n",
       "      <td>12</td>\n",
       "      <td>2013</td>\n",
       "      <td>14 days</td>\n",
       "    </tr>\n",
       "    <tr>\n",
       "      <th>3</th>\n",
       "      <td>2016-03-03</td>\n",
       "      <td>Debt collection</td>\n",
       "      <td>Disclosure verification of debt</td>\n",
       "      <td>FAIR COLLECTIONS &amp; OUTSOURCING, INC.</td>\n",
       "      <td>OH</td>\n",
       "      <td>43082</td>\n",
       "      <td>Referral</td>\n",
       "      <td>2016-03-04</td>\n",
       "      <td>Closed with explanation</td>\n",
       "      <td>Yes</td>\n",
       "      <td>No</td>\n",
       "      <td>1815134</td>\n",
       "      <td>03</td>\n",
       "      <td>03</td>\n",
       "      <td>2016</td>\n",
       "      <td>1 days</td>\n",
       "    </tr>\n",
       "    <tr>\n",
       "      <th>4</th>\n",
       "      <td>2015-01-30</td>\n",
       "      <td>Debt collection</td>\n",
       "      <td>Disclosure verification of debt</td>\n",
       "      <td>HCFS Health Care Financial Services, Inc.</td>\n",
       "      <td>CA</td>\n",
       "      <td>90036</td>\n",
       "      <td>Web</td>\n",
       "      <td>2015-01-30</td>\n",
       "      <td>Closed with explanation</td>\n",
       "      <td>Yes</td>\n",
       "      <td>Yes</td>\n",
       "      <td>1218613</td>\n",
       "      <td>30</td>\n",
       "      <td>01</td>\n",
       "      <td>2015</td>\n",
       "      <td>0 days</td>\n",
       "    </tr>\n",
       "  </tbody>\n",
       "</table>\n",
       "</div>"
      ],
      "text/plain": [
       "  Date received                  Product  \\\n",
       "0    2015-10-14         Credit reporting   \n",
       "1    2015-04-26  Bank account or service   \n",
       "2    2013-12-20              Credit card   \n",
       "3    2016-03-03          Debt collection   \n",
       "4    2015-01-30          Debt collection   \n",
       "\n",
       "                                    Issue  \\\n",
       "0  Incorrect information on credit report   \n",
       "1                Deposits and withdrawals   \n",
       "2                                   Other   \n",
       "3         Disclosure verification of debt   \n",
       "4         Disclosure verification of debt   \n",
       "\n",
       "                                     Company State ZIP code Submitted via  \\\n",
       "0                                    Equifax    GA    30134           Web   \n",
       "1                      Wells Fargo & Company    GA    319XX           Web   \n",
       "2                                   Citibank    SC    29203         Phone   \n",
       "3       FAIR COLLECTIONS & OUTSOURCING, INC.    OH    43082      Referral   \n",
       "4  HCFS Health Care Financial Services, Inc.    CA    90036           Web   \n",
       "\n",
       "  Date sent to company     Company response to consumer Timely response?  \\\n",
       "0           2015-10-14          Closed with explanation              Yes   \n",
       "1           2015-04-26          Closed with explanation              Yes   \n",
       "2           2014-01-03  Closed with non-monetary relief              Yes   \n",
       "3           2016-03-04          Closed with explanation              Yes   \n",
       "4           2015-01-30          Closed with explanation              Yes   \n",
       "\n",
       "  Consumer disputed?  Complaint ID Day Month  Year Days held  \n",
       "0                 No       1605653  14    10  2015    0 days  \n",
       "1                Yes       1347613  26    04  2015    0 days  \n",
       "2                 No        640394  20    12  2013   14 days  \n",
       "3                 No       1815134  03    03  2016    1 days  \n",
       "4                Yes       1218613  30    01  2015    0 days  "
      ]
     },
     "execution_count": 7,
     "metadata": {},
     "output_type": "execute_result"
    }
   ],
   "source": [
    "days_held = pd.to_datetime( train_new['Date sent to company']) -pd.to_datetime( train_new['Date received'])\n",
    "train_new['Days held'] = days_held\n",
    "train_new.head()"
   ]
  },
  {
   "cell_type": "markdown",
   "id": "9ae7d071",
   "metadata": {},
   "source": [
    "### Dropping \"Date Received\",\"Date Sent to Company\",\"ZIP Code\", \"Complaint ID\"fields"
   ]
  },
  {
   "cell_type": "code",
   "execution_count": 8,
   "id": "8359fa36",
   "metadata": {},
   "outputs": [
    {
     "data": {
      "text/html": [
       "<div>\n",
       "<style scoped>\n",
       "    .dataframe tbody tr th:only-of-type {\n",
       "        vertical-align: middle;\n",
       "    }\n",
       "\n",
       "    .dataframe tbody tr th {\n",
       "        vertical-align: top;\n",
       "    }\n",
       "\n",
       "    .dataframe thead th {\n",
       "        text-align: right;\n",
       "    }\n",
       "</style>\n",
       "<table border=\"1\" class=\"dataframe\">\n",
       "  <thead>\n",
       "    <tr style=\"text-align: right;\">\n",
       "      <th></th>\n",
       "      <th>Product</th>\n",
       "      <th>Issue</th>\n",
       "      <th>Company</th>\n",
       "      <th>State</th>\n",
       "      <th>Submitted via</th>\n",
       "      <th>Company response to consumer</th>\n",
       "      <th>Timely response?</th>\n",
       "      <th>Consumer disputed?</th>\n",
       "      <th>Day</th>\n",
       "      <th>Month</th>\n",
       "      <th>Year</th>\n",
       "      <th>Days held</th>\n",
       "    </tr>\n",
       "  </thead>\n",
       "  <tbody>\n",
       "    <tr>\n",
       "      <th>0</th>\n",
       "      <td>Credit reporting</td>\n",
       "      <td>Incorrect information on credit report</td>\n",
       "      <td>Equifax</td>\n",
       "      <td>GA</td>\n",
       "      <td>Web</td>\n",
       "      <td>Closed with explanation</td>\n",
       "      <td>Yes</td>\n",
       "      <td>No</td>\n",
       "      <td>14</td>\n",
       "      <td>10</td>\n",
       "      <td>2015</td>\n",
       "      <td>0 days</td>\n",
       "    </tr>\n",
       "    <tr>\n",
       "      <th>1</th>\n",
       "      <td>Bank account or service</td>\n",
       "      <td>Deposits and withdrawals</td>\n",
       "      <td>Wells Fargo &amp; Company</td>\n",
       "      <td>GA</td>\n",
       "      <td>Web</td>\n",
       "      <td>Closed with explanation</td>\n",
       "      <td>Yes</td>\n",
       "      <td>Yes</td>\n",
       "      <td>26</td>\n",
       "      <td>04</td>\n",
       "      <td>2015</td>\n",
       "      <td>0 days</td>\n",
       "    </tr>\n",
       "    <tr>\n",
       "      <th>2</th>\n",
       "      <td>Credit card</td>\n",
       "      <td>Other</td>\n",
       "      <td>Citibank</td>\n",
       "      <td>SC</td>\n",
       "      <td>Phone</td>\n",
       "      <td>Closed with non-monetary relief</td>\n",
       "      <td>Yes</td>\n",
       "      <td>No</td>\n",
       "      <td>20</td>\n",
       "      <td>12</td>\n",
       "      <td>2013</td>\n",
       "      <td>14 days</td>\n",
       "    </tr>\n",
       "    <tr>\n",
       "      <th>3</th>\n",
       "      <td>Debt collection</td>\n",
       "      <td>Disclosure verification of debt</td>\n",
       "      <td>FAIR COLLECTIONS &amp; OUTSOURCING, INC.</td>\n",
       "      <td>OH</td>\n",
       "      <td>Referral</td>\n",
       "      <td>Closed with explanation</td>\n",
       "      <td>Yes</td>\n",
       "      <td>No</td>\n",
       "      <td>03</td>\n",
       "      <td>03</td>\n",
       "      <td>2016</td>\n",
       "      <td>1 days</td>\n",
       "    </tr>\n",
       "    <tr>\n",
       "      <th>4</th>\n",
       "      <td>Debt collection</td>\n",
       "      <td>Disclosure verification of debt</td>\n",
       "      <td>HCFS Health Care Financial Services, Inc.</td>\n",
       "      <td>CA</td>\n",
       "      <td>Web</td>\n",
       "      <td>Closed with explanation</td>\n",
       "      <td>Yes</td>\n",
       "      <td>Yes</td>\n",
       "      <td>30</td>\n",
       "      <td>01</td>\n",
       "      <td>2015</td>\n",
       "      <td>0 days</td>\n",
       "    </tr>\n",
       "    <tr>\n",
       "      <th>...</th>\n",
       "      <td>...</td>\n",
       "      <td>...</td>\n",
       "      <td>...</td>\n",
       "      <td>...</td>\n",
       "      <td>...</td>\n",
       "      <td>...</td>\n",
       "      <td>...</td>\n",
       "      <td>...</td>\n",
       "      <td>...</td>\n",
       "      <td>...</td>\n",
       "      <td>...</td>\n",
       "      <td>...</td>\n",
       "    </tr>\n",
       "    <tr>\n",
       "      <th>358805</th>\n",
       "      <td>Credit reporting</td>\n",
       "      <td>Incorrect information on credit report</td>\n",
       "      <td>Experian</td>\n",
       "      <td>OR</td>\n",
       "      <td>Web</td>\n",
       "      <td>Closed with non-monetary relief</td>\n",
       "      <td>Yes</td>\n",
       "      <td>No</td>\n",
       "      <td>14</td>\n",
       "      <td>04</td>\n",
       "      <td>2014</td>\n",
       "      <td>-1 days</td>\n",
       "    </tr>\n",
       "    <tr>\n",
       "      <th>358806</th>\n",
       "      <td>Mortgage</td>\n",
       "      <td>Loan modification,collection,foreclosure</td>\n",
       "      <td>Citibank</td>\n",
       "      <td>OH</td>\n",
       "      <td>Referral</td>\n",
       "      <td>Closed with non-monetary relief</td>\n",
       "      <td>Yes</td>\n",
       "      <td>No</td>\n",
       "      <td>14</td>\n",
       "      <td>03</td>\n",
       "      <td>2013</td>\n",
       "      <td>4 days</td>\n",
       "    </tr>\n",
       "    <tr>\n",
       "      <th>358807</th>\n",
       "      <td>Credit card</td>\n",
       "      <td>Payoff process</td>\n",
       "      <td>Capital One</td>\n",
       "      <td>TX</td>\n",
       "      <td>Web</td>\n",
       "      <td>Closed</td>\n",
       "      <td>Yes</td>\n",
       "      <td>Yes</td>\n",
       "      <td>01</td>\n",
       "      <td>02</td>\n",
       "      <td>2013</td>\n",
       "      <td>0 days</td>\n",
       "    </tr>\n",
       "    <tr>\n",
       "      <th>358808</th>\n",
       "      <td>Debt collection</td>\n",
       "      <td>Cont'd attempts collect debt not owed</td>\n",
       "      <td>Encore Capital Group</td>\n",
       "      <td>FL</td>\n",
       "      <td>Phone</td>\n",
       "      <td>Closed with non-monetary relief</td>\n",
       "      <td>Yes</td>\n",
       "      <td>No</td>\n",
       "      <td>25</td>\n",
       "      <td>06</td>\n",
       "      <td>2015</td>\n",
       "      <td>4 days</td>\n",
       "    </tr>\n",
       "    <tr>\n",
       "      <th>358809</th>\n",
       "      <td>Credit reporting</td>\n",
       "      <td>Incorrect information on credit report</td>\n",
       "      <td>TransUnion Intermediate Holdings, Inc.</td>\n",
       "      <td>FL</td>\n",
       "      <td>Referral</td>\n",
       "      <td>Closed with explanation</td>\n",
       "      <td>Yes</td>\n",
       "      <td>No</td>\n",
       "      <td>12</td>\n",
       "      <td>05</td>\n",
       "      <td>2015</td>\n",
       "      <td>22 days</td>\n",
       "    </tr>\n",
       "  </tbody>\n",
       "</table>\n",
       "<p>358810 rows × 12 columns</p>\n",
       "</div>"
      ],
      "text/plain": [
       "                        Product                                     Issue  \\\n",
       "0              Credit reporting    Incorrect information on credit report   \n",
       "1       Bank account or service                  Deposits and withdrawals   \n",
       "2                   Credit card                                     Other   \n",
       "3               Debt collection           Disclosure verification of debt   \n",
       "4               Debt collection           Disclosure verification of debt   \n",
       "...                         ...                                       ...   \n",
       "358805         Credit reporting    Incorrect information on credit report   \n",
       "358806                 Mortgage  Loan modification,collection,foreclosure   \n",
       "358807              Credit card                            Payoff process   \n",
       "358808          Debt collection     Cont'd attempts collect debt not owed   \n",
       "358809         Credit reporting    Incorrect information on credit report   \n",
       "\n",
       "                                          Company State Submitted via  \\\n",
       "0                                         Equifax    GA           Web   \n",
       "1                           Wells Fargo & Company    GA           Web   \n",
       "2                                        Citibank    SC         Phone   \n",
       "3            FAIR COLLECTIONS & OUTSOURCING, INC.    OH      Referral   \n",
       "4       HCFS Health Care Financial Services, Inc.    CA           Web   \n",
       "...                                           ...   ...           ...   \n",
       "358805                                   Experian    OR           Web   \n",
       "358806                                   Citibank    OH      Referral   \n",
       "358807                                Capital One    TX           Web   \n",
       "358808                       Encore Capital Group    FL         Phone   \n",
       "358809     TransUnion Intermediate Holdings, Inc.    FL      Referral   \n",
       "\n",
       "           Company response to consumer Timely response? Consumer disputed?  \\\n",
       "0               Closed with explanation              Yes                 No   \n",
       "1               Closed with explanation              Yes                Yes   \n",
       "2       Closed with non-monetary relief              Yes                 No   \n",
       "3               Closed with explanation              Yes                 No   \n",
       "4               Closed with explanation              Yes                Yes   \n",
       "...                                 ...              ...                ...   \n",
       "358805  Closed with non-monetary relief              Yes                 No   \n",
       "358806  Closed with non-monetary relief              Yes                 No   \n",
       "358807                           Closed              Yes                Yes   \n",
       "358808  Closed with non-monetary relief              Yes                 No   \n",
       "358809          Closed with explanation              Yes                 No   \n",
       "\n",
       "       Day Month  Year Days held  \n",
       "0       14    10  2015    0 days  \n",
       "1       26    04  2015    0 days  \n",
       "2       20    12  2013   14 days  \n",
       "3       03    03  2016    1 days  \n",
       "4       30    01  2015    0 days  \n",
       "...     ..   ...   ...       ...  \n",
       "358805  14    04  2014   -1 days  \n",
       "358806  14    03  2013    4 days  \n",
       "358807  01    02  2013    0 days  \n",
       "358808  25    06  2015    4 days  \n",
       "358809  12    05  2015   22 days  \n",
       "\n",
       "[358810 rows x 12 columns]"
      ]
     },
     "execution_count": 8,
     "metadata": {},
     "output_type": "execute_result"
    }
   ],
   "source": [
    "train_new.drop(train_new.columns[[0,5,7,11]], axis=1, inplace=True)\n",
    "train_new"
   ]
  },
  {
   "cell_type": "markdown",
   "id": "ca453630",
   "metadata": {},
   "source": [
    "### Imputing Nullvalue in “State”by Mode"
   ]
  },
  {
   "cell_type": "code",
   "execution_count": 9,
   "id": "5ab16cb2",
   "metadata": {},
   "outputs": [],
   "source": [
    "train_new['State'] = train_new['State'].fillna(train_new['State'].mode().values[0])"
   ]
  },
  {
   "cell_type": "markdown",
   "id": "a2c2fef3",
   "metadata": {},
   "source": [
    "### Storing data of disputed people into the “disputed_cons” variable"
   ]
  },
  {
   "cell_type": "code",
   "execution_count": 11,
   "id": "44c72ceb",
   "metadata": {},
   "outputs": [],
   "source": [
    "disputed_cons = train_new[train_new['Consumer disputed?'] == 'Yes']"
   ]
  },
  {
   "cell_type": "markdown",
   "id": "c7ba037c",
   "metadata": {},
   "source": [
    "### Bar graph of thetotal no of disputes of consumers"
   ]
  },
  {
   "cell_type": "code",
   "execution_count": 12,
   "id": "2fb0ac4e",
   "metadata": {},
   "outputs": [
    {
     "data": {
      "text/plain": [
       "<AxesSubplot:xlabel='Consumer disputed?', ylabel='count'>"
      ]
     },
     "execution_count": 12,
     "metadata": {},
     "output_type": "execute_result"
    },
    {
     "data": {
      "image/png": "[encoded data removed]",
      "text/plain": [
       "<Figure size 576x288 with 1 Axes>"
      ]
     },
     "metadata": {
      "needs_background": "light"
     },
     "output_type": "display_data"
    }
   ],
   "source": [
    "import seaborn as sns\n",
    "import matplotlib.pyplot as plt\n",
    "import warnings\n",
    "warnings.filterwarnings('ignore')\n",
    "\n",
    "plt.figure(figsize=(8,4))\n",
    "sns.countplot(train_new['Consumer disputed?'])"
   ]
  },
  {
   "cell_type": "markdown",
   "id": "e4aea121",
   "metadata": {},
   "source": [
    "### Bar graph of thetotal no of disputes products-wise"
   ]
  },
  {
   "cell_type": "code",
   "execution_count": 13,
   "id": "9f8d9f6c",
   "metadata": {},
   "outputs": [
    {
     "data": {
      "text/plain": [
       "<AxesSubplot:xlabel='Product', ylabel='count'>"
      ]
     },
     "execution_count": 13,
     "metadata": {},
     "output_type": "execute_result"
    },
    {
     "data": {
      "image/png": "[encoded data removed]",
      "text/plain": [
       "<Figure size 1152x576 with 1 Axes>"
      ]
     },
     "metadata": {
      "needs_background": "light"
     },
     "output_type": "display_data"
    }
   ],
   "source": [
    "plt.figure(figsize=(16,8))\n",
    "sns.countplot(disputed_cons['Product'])"
   ]
  },
  {
   "cell_type": "markdown",
   "id": "1b13bc7d",
   "metadata": {},
   "source": [
    "### Bar graph ofthe total no of disputes with Top Issues by Highest Disputes"
   ]
  },
  {
   "cell_type": "code",
   "execution_count": 72,
   "id": "0147a64f",
   "metadata": {},
   "outputs": [
    {
     "data": {
      "text/plain": [
       "<AxesSubplot:xlabel='Issue', ylabel='count'>"
      ]
     },
     "execution_count": 72,
     "metadata": {},
     "output_type": "execute_result"
    },
    {
     "data": {
      "image/png": "[encoded data removed]",
      "text/plain": [
       "<Figure size 1152x576 with 1 Axes>"
      ]
     },
     "metadata": {
      "needs_background": "light"
     },
     "output_type": "display_data"
    }
   ],
   "source": [
    "large_to_small = disputed_cons.groupby('Issue').size().sort_values().index[::-1][:10]\n",
    "plt.figure(figsize=(16,8))\n",
    "sns.countplot(disputed_cons['Issue'],order=large_to_small)"
   ]
  },
  {
   "cell_type": "markdown",
   "id": "6f5ce156",
   "metadata": {},
   "source": [
    "### Bar graph ofthe total no of disputes by State with Maximum Disputes"
   ]
  },
  {
   "cell_type": "code",
   "execution_count": 75,
   "id": "b26be896",
   "metadata": {},
   "outputs": [
    {
     "data": {
      "text/plain": [
       "<AxesSubplot:xlabel='State', ylabel='count'>"
      ]
     },
     "execution_count": 75,
     "metadata": {},
     "output_type": "execute_result"
    },
    {
     "data": {
      "image/png": "[encoded data removed]",
      "text/plain": [
       "<Figure size 1152x576 with 1 Axes>"
      ]
     },
     "metadata": {
      "needs_background": "light"
     },
     "output_type": "display_data"
    }
   ],
   "source": [
    "large_to_small = disputed_cons.groupby('State').size().sort_values().index[::-1][:15]\n",
    "plt.figure(figsize=(16,8))\n",
    "sns.countplot( disputed_cons['State'], order = large_to_small)"
   ]
  },
  {
   "cell_type": "markdown",
   "id": "eb4fcbe2",
   "metadata": {},
   "source": [
    "### Bar graph ofthe total no of disputes Submitted Via different source"
   ]
  },
  {
   "cell_type": "code",
   "execution_count": 77,
   "id": "44a95aaa",
   "metadata": {},
   "outputs": [
    {
     "data": {
      "text/plain": [
       "<AxesSubplot:xlabel='Submitted via', ylabel='count'>"
      ]
     },
     "execution_count": 77,
     "metadata": {},
     "output_type": "execute_result"
    },
    {
     "data": {
      "image/png": "[encoded data removed]",
      "text/plain": [
       "<Figure size 720x360 with 1 Axes>"
      ]
     },
     "metadata": {
      "needs_background": "light"
     },
     "output_type": "display_data"
    }
   ],
   "source": [
    "plt.figure(figsize=(10,5))\n",
    "sns.countplot( disputed_cons['Submitted via'])"
   ]
  },
  {
   "cell_type": "markdown",
   "id": "8461ce64",
   "metadata": {},
   "source": [
    "### Bar graph ofthe total no of disputes where the Company's Response to the Complaints"
   ]
  },
  {
   "cell_type": "code",
   "execution_count": 79,
   "id": "3a3a52cd",
   "metadata": {},
   "outputs": [
    {
     "data": {
      "text/plain": [
       "<AxesSubplot:xlabel='Company response to consumer', ylabel='count'>"
      ]
     },
     "execution_count": 79,
     "metadata": {},
     "output_type": "execute_result"
    },
    {
     "data": {
      "image/png": "[encoded data removed]",
      "text/plain": [
       "<Figure size 1008x504 with 1 Axes>"
      ]
     },
     "metadata": {
      "needs_background": "light"
     },
     "output_type": "display_data"
    }
   ],
   "source": [
    "plt.figure(figsize=(14,7))\n",
    "sns.countplot( disputed_cons['Company response to consumer'])"
   ]
  },
  {
   "cell_type": "markdown",
   "id": "a79b12ac",
   "metadata": {},
   "source": [
    "### Disputes Instead of Timely Response"
   ]
  },
  {
   "cell_type": "code",
   "execution_count": 81,
   "id": "978d899c",
   "metadata": {},
   "outputs": [
    {
     "data": {
      "text/plain": [
       "<AxesSubplot:xlabel='Timely response?', ylabel='count'>"
      ]
     },
     "execution_count": 81,
     "metadata": {},
     "output_type": "execute_result"
    },
    {
     "data": {
      "image/png": "[encoded data removed]",
      "text/plain": [
       "<Figure size 576x288 with 1 Axes>"
      ]
     },
     "metadata": {
      "needs_background": "light"
     },
     "output_type": "display_data"
    }
   ],
   "source": [
    "plt.figure(figsize=(8,4))\n",
    "sns.countplot( disputed_cons['Timely response?'])"
   ]
  },
  {
   "cell_type": "markdown",
   "id": "d9f8c9d9",
   "metadata": {},
   "source": [
    "### Bar graph ofthe total no of disputes over Year Wise Complaints"
   ]
  },
  {
   "cell_type": "code",
   "execution_count": 83,
   "id": "b645711b",
   "metadata": {},
   "outputs": [
    {
     "data": {
      "text/plain": [
       "<AxesSubplot:xlabel='Year', ylabel='count'>"
      ]
     },
     "execution_count": 83,
     "metadata": {},
     "output_type": "execute_result"
    },
    {
     "data": {
      "image/png": "[encoded data removed]",
      "text/plain": [
       "<Figure size 576x288 with 1 Axes>"
      ]
     },
     "metadata": {
      "needs_background": "light"
     },
     "output_type": "display_data"
    }
   ],
   "source": [
    "plt.figure(figsize=(8,4))\n",
    "sns.countplot( train_new['Year'])"
   ]
  },
  {
   "cell_type": "markdown",
   "id": "c6e70261",
   "metadata": {},
   "source": [
    "### Bar graph ofthe total no of disputes over Year Wise Disputes"
   ]
  },
  {
   "cell_type": "code",
   "execution_count": 84,
   "id": "2b28d09d",
   "metadata": {},
   "outputs": [
    {
     "data": {
      "text/plain": [
       "<AxesSubplot:xlabel='Year', ylabel='count'>"
      ]
     },
     "execution_count": 84,
     "metadata": {},
     "output_type": "execute_result"
    },
    {
     "data": {
      "image/png": "[encoded data removed]",
      "text/plain": [
       "<Figure size 576x288 with 1 Axes>"
      ]
     },
     "metadata": {
      "needs_background": "light"
     },
     "output_type": "display_data"
    }
   ],
   "source": [
    "plt.figure(figsize=(8,4))\n",
    "sns.countplot( disputed_cons['Year'])"
   ]
  },
  {
   "cell_type": "markdown",
   "id": "983aed7e",
   "metadata": {},
   "source": [
    "### Bar graph of Top Companies with Highest Complaints"
   ]
  },
  {
   "cell_type": "code",
   "execution_count": 92,
   "id": "f4d072c2",
   "metadata": {},
   "outputs": [
    {
     "data": {
      "text/plain": [
       "<AxesSubplot:xlabel='Company', ylabel='count'>"
      ]
     },
     "execution_count": 92,
     "metadata": {},
     "output_type": "execute_result"
    },
    {
     "data": {
      "image/png": "[encoded data removed]",
      "text/plain": [
       "<Figure size 1440x720 with 1 Axes>"
      ]
     },
     "metadata": {
      "needs_background": "light"
     },
     "output_type": "display_data"
    }
   ],
   "source": [
    "large_to_small = train_new.groupby('Company').size().sort_values().index[::-1][:15]\n",
    "plt.figure(figsize=(20,10))\n",
    "sns.countplot( train_new['Company'], order = large_to_small)"
   ]
  },
  {
   "cell_type": "markdown",
   "id": "24fbc81d",
   "metadata": {},
   "source": [
    "### Converting all negative days held to zero"
   ]
  },
  {
   "cell_type": "code",
   "execution_count": 2,
   "id": "82bc5b4b",
   "metadata": {},
   "outputs": [],
   "source": [
    "train_new[train_new['Days held']<0] = 0"
   ]
  },
  {
   "cell_type": "markdown",
   "id": "aa244618",
   "metadata": {},
   "source": [
    "### Dropping Unnecessary Columns for the Model Building like:'Company', 'State', 'Year_Received', 'Days_held'"
   ]
  },
  {
   "cell_type": "code",
   "execution_count": 3,
   "id": "28ba8096",
   "metadata": {},
   "outputs": [
    {
     "data": {
      "text/html": [
       "<div>\n",
       "<style scoped>\n",
       "    .dataframe tbody tr th:only-of-type {\n",
       "        vertical-align: middle;\n",
       "    }\n",
       "\n",
       "    .dataframe tbody tr th {\n",
       "        vertical-align: top;\n",
       "    }\n",
       "\n",
       "    .dataframe thead th {\n",
       "        text-align: right;\n",
       "    }\n",
       "</style>\n",
       "<table border=\"1\" class=\"dataframe\">\n",
       "  <thead>\n",
       "    <tr style=\"text-align: right;\">\n",
       "      <th></th>\n",
       "      <th>Unnamed: 0</th>\n",
       "      <th>Product</th>\n",
       "      <th>Issue</th>\n",
       "      <th>Submitted via</th>\n",
       "      <th>Company response to consumer</th>\n",
       "      <th>Timely response?</th>\n",
       "      <th>Consumer disputed?</th>\n",
       "      <th>Day</th>\n",
       "      <th>Month</th>\n",
       "    </tr>\n",
       "  </thead>\n",
       "  <tbody>\n",
       "    <tr>\n",
       "      <th>0</th>\n",
       "      <td>0</td>\n",
       "      <td>Credit reporting</td>\n",
       "      <td>Incorrect information on credit report</td>\n",
       "      <td>Web</td>\n",
       "      <td>Closed with explanation</td>\n",
       "      <td>Yes</td>\n",
       "      <td>0</td>\n",
       "      <td>14</td>\n",
       "      <td>10</td>\n",
       "    </tr>\n",
       "    <tr>\n",
       "      <th>1</th>\n",
       "      <td>1</td>\n",
       "      <td>Bank account or service</td>\n",
       "      <td>Deposits and withdrawals</td>\n",
       "      <td>Web</td>\n",
       "      <td>Closed with explanation</td>\n",
       "      <td>Yes</td>\n",
       "      <td>1</td>\n",
       "      <td>26</td>\n",
       "      <td>4</td>\n",
       "    </tr>\n",
       "    <tr>\n",
       "      <th>2</th>\n",
       "      <td>2</td>\n",
       "      <td>Credit card</td>\n",
       "      <td>Other</td>\n",
       "      <td>Phone</td>\n",
       "      <td>Closed with non-monetary relief</td>\n",
       "      <td>Yes</td>\n",
       "      <td>0</td>\n",
       "      <td>20</td>\n",
       "      <td>12</td>\n",
       "    </tr>\n",
       "    <tr>\n",
       "      <th>3</th>\n",
       "      <td>3</td>\n",
       "      <td>Debt collection</td>\n",
       "      <td>Disclosure verification of debt</td>\n",
       "      <td>Referral</td>\n",
       "      <td>Closed with explanation</td>\n",
       "      <td>Yes</td>\n",
       "      <td>0</td>\n",
       "      <td>3</td>\n",
       "      <td>3</td>\n",
       "    </tr>\n",
       "    <tr>\n",
       "      <th>4</th>\n",
       "      <td>4</td>\n",
       "      <td>Debt collection</td>\n",
       "      <td>Disclosure verification of debt</td>\n",
       "      <td>Web</td>\n",
       "      <td>Closed with explanation</td>\n",
       "      <td>Yes</td>\n",
       "      <td>1</td>\n",
       "      <td>30</td>\n",
       "      <td>1</td>\n",
       "    </tr>\n",
       "    <tr>\n",
       "      <th>...</th>\n",
       "      <td>...</td>\n",
       "      <td>...</td>\n",
       "      <td>...</td>\n",
       "      <td>...</td>\n",
       "      <td>...</td>\n",
       "      <td>...</td>\n",
       "      <td>...</td>\n",
       "      <td>...</td>\n",
       "      <td>...</td>\n",
       "    </tr>\n",
       "    <tr>\n",
       "      <th>358805</th>\n",
       "      <td>0</td>\n",
       "      <td>0</td>\n",
       "      <td>0</td>\n",
       "      <td>0</td>\n",
       "      <td>0</td>\n",
       "      <td>0</td>\n",
       "      <td>0</td>\n",
       "      <td>0</td>\n",
       "      <td>0</td>\n",
       "    </tr>\n",
       "    <tr>\n",
       "      <th>358806</th>\n",
       "      <td>358806</td>\n",
       "      <td>Mortgage</td>\n",
       "      <td>Loan modification,collection,foreclosure</td>\n",
       "      <td>Referral</td>\n",
       "      <td>Closed with non-monetary relief</td>\n",
       "      <td>Yes</td>\n",
       "      <td>0</td>\n",
       "      <td>14</td>\n",
       "      <td>3</td>\n",
       "    </tr>\n",
       "    <tr>\n",
       "      <th>358807</th>\n",
       "      <td>358807</td>\n",
       "      <td>Credit card</td>\n",
       "      <td>Payoff process</td>\n",
       "      <td>Web</td>\n",
       "      <td>Closed</td>\n",
       "      <td>Yes</td>\n",
       "      <td>1</td>\n",
       "      <td>1</td>\n",
       "      <td>2</td>\n",
       "    </tr>\n",
       "    <tr>\n",
       "      <th>358808</th>\n",
       "      <td>358808</td>\n",
       "      <td>Debt collection</td>\n",
       "      <td>Cont'd attempts collect debt not owed</td>\n",
       "      <td>Phone</td>\n",
       "      <td>Closed with non-monetary relief</td>\n",
       "      <td>Yes</td>\n",
       "      <td>0</td>\n",
       "      <td>25</td>\n",
       "      <td>6</td>\n",
       "    </tr>\n",
       "    <tr>\n",
       "      <th>358809</th>\n",
       "      <td>358809</td>\n",
       "      <td>Credit reporting</td>\n",
       "      <td>Incorrect information on credit report</td>\n",
       "      <td>Referral</td>\n",
       "      <td>Closed with explanation</td>\n",
       "      <td>Yes</td>\n",
       "      <td>0</td>\n",
       "      <td>12</td>\n",
       "      <td>5</td>\n",
       "    </tr>\n",
       "  </tbody>\n",
       "</table>\n",
       "<p>358810 rows × 9 columns</p>\n",
       "</div>"
      ],
      "text/plain": [
       "        Unnamed: 0                  Product  \\\n",
       "0                0         Credit reporting   \n",
       "1                1  Bank account or service   \n",
       "2                2              Credit card   \n",
       "3                3          Debt collection   \n",
       "4                4          Debt collection   \n",
       "...            ...                      ...   \n",
       "358805           0                        0   \n",
       "358806      358806                 Mortgage   \n",
       "358807      358807              Credit card   \n",
       "358808      358808          Debt collection   \n",
       "358809      358809         Credit reporting   \n",
       "\n",
       "                                           Issue Submitted via  \\\n",
       "0         Incorrect information on credit report           Web   \n",
       "1                       Deposits and withdrawals           Web   \n",
       "2                                          Other         Phone   \n",
       "3                Disclosure verification of debt      Referral   \n",
       "4                Disclosure verification of debt           Web   \n",
       "...                                          ...           ...   \n",
       "358805                                         0             0   \n",
       "358806  Loan modification,collection,foreclosure      Referral   \n",
       "358807                            Payoff process           Web   \n",
       "358808     Cont'd attempts collect debt not owed         Phone   \n",
       "358809    Incorrect information on credit report      Referral   \n",
       "\n",
       "           Company response to consumer Timely response?  Consumer disputed?  \\\n",
       "0               Closed with explanation              Yes                   0   \n",
       "1               Closed with explanation              Yes                   1   \n",
       "2       Closed with non-monetary relief              Yes                   0   \n",
       "3               Closed with explanation              Yes                   0   \n",
       "4               Closed with explanation              Yes                   1   \n",
       "...                                 ...              ...                 ...   \n",
       "358805                                0                0                   0   \n",
       "358806  Closed with non-monetary relief              Yes                   0   \n",
       "358807                           Closed              Yes                   1   \n",
       "358808  Closed with non-monetary relief              Yes                   0   \n",
       "358809          Closed with explanation              Yes                   0   \n",
       "\n",
       "        Day  Month  \n",
       "0        14     10  \n",
       "1        26      4  \n",
       "2        20     12  \n",
       "3         3      3  \n",
       "4        30      1  \n",
       "...     ...    ...  \n",
       "358805    0      0  \n",
       "358806   14      3  \n",
       "358807    1      2  \n",
       "358808   25      6  \n",
       "358809   12      5  \n",
       "\n",
       "[358810 rows x 9 columns]"
      ]
     },
     "execution_count": 3,
     "metadata": {},
     "output_type": "execute_result"
    }
   ],
   "source": [
    "train_new.drop(train_new.columns[[3,4,11,12]], axis=1, inplace=True)\n",
    "train_new"
   ]
  },
  {
   "cell_type": "markdown",
   "id": "43762761",
   "metadata": {},
   "source": [
    "### Creating Dummy Variables for categorical features"
   ]
  },
  {
   "cell_type": "code",
   "execution_count": 5,
   "id": "27b39327",
   "metadata": {},
   "outputs": [
    {
     "data": {
      "text/html": [
       "<div>\n",
       "<style scoped>\n",
       "    .dataframe tbody tr th:only-of-type {\n",
       "        vertical-align: middle;\n",
       "    }\n",
       "\n",
       "    .dataframe tbody tr th {\n",
       "        vertical-align: top;\n",
       "    }\n",
       "\n",
       "    .dataframe thead th {\n",
       "        text-align: right;\n",
       "    }\n",
       "</style>\n",
       "<table border=\"1\" class=\"dataframe\">\n",
       "  <thead>\n",
       "    <tr style=\"text-align: right;\">\n",
       "      <th></th>\n",
       "      <th>Consumer disputed?</th>\n",
       "      <th>Day</th>\n",
       "      <th>Month</th>\n",
       "      <th>Product_0</th>\n",
       "      <th>Product_Bank account or service</th>\n",
       "      <th>Product_Consumer Loan</th>\n",
       "      <th>Product_Credit card</th>\n",
       "      <th>Product_Credit reporting</th>\n",
       "      <th>Product_Debt collection</th>\n",
       "      <th>Product_Money transfers</th>\n",
       "      <th>...</th>\n",
       "      <th>Company response to consumer_0</th>\n",
       "      <th>Company response to consumer_Closed</th>\n",
       "      <th>Company response to consumer_Closed with explanation</th>\n",
       "      <th>Company response to consumer_Closed with monetary relief</th>\n",
       "      <th>Company response to consumer_Closed with non-monetary relief</th>\n",
       "      <th>Company response to consumer_Closed with relief</th>\n",
       "      <th>Company response to consumer_Closed without relief</th>\n",
       "      <th>Timely response?_0</th>\n",
       "      <th>Timely response?_No</th>\n",
       "      <th>Timely response?_Yes</th>\n",
       "    </tr>\n",
       "  </thead>\n",
       "  <tbody>\n",
       "    <tr>\n",
       "      <th>0</th>\n",
       "      <td>0</td>\n",
       "      <td>14</td>\n",
       "      <td>10</td>\n",
       "      <td>0</td>\n",
       "      <td>0</td>\n",
       "      <td>0</td>\n",
       "      <td>0</td>\n",
       "      <td>1</td>\n",
       "      <td>0</td>\n",
       "      <td>0</td>\n",
       "      <td>...</td>\n",
       "      <td>0</td>\n",
       "      <td>0</td>\n",
       "      <td>1</td>\n",
       "      <td>0</td>\n",
       "      <td>0</td>\n",
       "      <td>0</td>\n",
       "      <td>0</td>\n",
       "      <td>0</td>\n",
       "      <td>0</td>\n",
       "      <td>1</td>\n",
       "    </tr>\n",
       "    <tr>\n",
       "      <th>1</th>\n",
       "      <td>1</td>\n",
       "      <td>26</td>\n",
       "      <td>4</td>\n",
       "      <td>0</td>\n",
       "      <td>1</td>\n",
       "      <td>0</td>\n",
       "      <td>0</td>\n",
       "      <td>0</td>\n",
       "      <td>0</td>\n",
       "      <td>0</td>\n",
       "      <td>...</td>\n",
       "      <td>0</td>\n",
       "      <td>0</td>\n",
       "      <td>1</td>\n",
       "      <td>0</td>\n",
       "      <td>0</td>\n",
       "      <td>0</td>\n",
       "      <td>0</td>\n",
       "      <td>0</td>\n",
       "      <td>0</td>\n",
       "      <td>1</td>\n",
       "    </tr>\n",
       "    <tr>\n",
       "      <th>2</th>\n",
       "      <td>0</td>\n",
       "      <td>20</td>\n",
       "      <td>12</td>\n",
       "      <td>0</td>\n",
       "      <td>0</td>\n",
       "      <td>0</td>\n",
       "      <td>1</td>\n",
       "      <td>0</td>\n",
       "      <td>0</td>\n",
       "      <td>0</td>\n",
       "      <td>...</td>\n",
       "      <td>0</td>\n",
       "      <td>0</td>\n",
       "      <td>0</td>\n",
       "      <td>0</td>\n",
       "      <td>1</td>\n",
       "      <td>0</td>\n",
       "      <td>0</td>\n",
       "      <td>0</td>\n",
       "      <td>0</td>\n",
       "      <td>1</td>\n",
       "    </tr>\n",
       "    <tr>\n",
       "      <th>3</th>\n",
       "      <td>0</td>\n",
       "      <td>3</td>\n",
       "      <td>3</td>\n",
       "      <td>0</td>\n",
       "      <td>0</td>\n",
       "      <td>0</td>\n",
       "      <td>0</td>\n",
       "      <td>0</td>\n",
       "      <td>1</td>\n",
       "      <td>0</td>\n",
       "      <td>...</td>\n",
       "      <td>0</td>\n",
       "      <td>0</td>\n",
       "      <td>1</td>\n",
       "      <td>0</td>\n",
       "      <td>0</td>\n",
       "      <td>0</td>\n",
       "      <td>0</td>\n",
       "      <td>0</td>\n",
       "      <td>0</td>\n",
       "      <td>1</td>\n",
       "    </tr>\n",
       "    <tr>\n",
       "      <th>4</th>\n",
       "      <td>1</td>\n",
       "      <td>30</td>\n",
       "      <td>1</td>\n",
       "      <td>0</td>\n",
       "      <td>0</td>\n",
       "      <td>0</td>\n",
       "      <td>0</td>\n",
       "      <td>0</td>\n",
       "      <td>1</td>\n",
       "      <td>0</td>\n",
       "      <td>...</td>\n",
       "      <td>0</td>\n",
       "      <td>0</td>\n",
       "      <td>1</td>\n",
       "      <td>0</td>\n",
       "      <td>0</td>\n",
       "      <td>0</td>\n",
       "      <td>0</td>\n",
       "      <td>0</td>\n",
       "      <td>0</td>\n",
       "      <td>1</td>\n",
       "    </tr>\n",
       "    <tr>\n",
       "      <th>...</th>\n",
       "      <td>...</td>\n",
       "      <td>...</td>\n",
       "      <td>...</td>\n",
       "      <td>...</td>\n",
       "      <td>...</td>\n",
       "      <td>...</td>\n",
       "      <td>...</td>\n",
       "      <td>...</td>\n",
       "      <td>...</td>\n",
       "      <td>...</td>\n",
       "      <td>...</td>\n",
       "      <td>...</td>\n",
       "      <td>...</td>\n",
       "      <td>...</td>\n",
       "      <td>...</td>\n",
       "      <td>...</td>\n",
       "      <td>...</td>\n",
       "      <td>...</td>\n",
       "      <td>...</td>\n",
       "      <td>...</td>\n",
       "      <td>...</td>\n",
       "    </tr>\n",
       "    <tr>\n",
       "      <th>358805</th>\n",
       "      <td>0</td>\n",
       "      <td>0</td>\n",
       "      <td>0</td>\n",
       "      <td>1</td>\n",
       "      <td>0</td>\n",
       "      <td>0</td>\n",
       "      <td>0</td>\n",
       "      <td>0</td>\n",
       "      <td>0</td>\n",
       "      <td>0</td>\n",
       "      <td>...</td>\n",
       "      <td>1</td>\n",
       "      <td>0</td>\n",
       "      <td>0</td>\n",
       "      <td>0</td>\n",
       "      <td>0</td>\n",
       "      <td>0</td>\n",
       "      <td>0</td>\n",
       "      <td>1</td>\n",
       "      <td>0</td>\n",
       "      <td>0</td>\n",
       "    </tr>\n",
       "    <tr>\n",
       "      <th>358806</th>\n",
       "      <td>0</td>\n",
       "      <td>14</td>\n",
       "      <td>3</td>\n",
       "      <td>0</td>\n",
       "      <td>0</td>\n",
       "      <td>0</td>\n",
       "      <td>0</td>\n",
       "      <td>0</td>\n",
       "      <td>0</td>\n",
       "      <td>0</td>\n",
       "      <td>...</td>\n",
       "      <td>0</td>\n",
       "      <td>0</td>\n",
       "      <td>0</td>\n",
       "      <td>0</td>\n",
       "      <td>1</td>\n",
       "      <td>0</td>\n",
       "      <td>0</td>\n",
       "      <td>0</td>\n",
       "      <td>0</td>\n",
       "      <td>1</td>\n",
       "    </tr>\n",
       "    <tr>\n",
       "      <th>358807</th>\n",
       "      <td>1</td>\n",
       "      <td>1</td>\n",
       "      <td>2</td>\n",
       "      <td>0</td>\n",
       "      <td>0</td>\n",
       "      <td>0</td>\n",
       "      <td>1</td>\n",
       "      <td>0</td>\n",
       "      <td>0</td>\n",
       "      <td>0</td>\n",
       "      <td>...</td>\n",
       "      <td>0</td>\n",
       "      <td>1</td>\n",
       "      <td>0</td>\n",
       "      <td>0</td>\n",
       "      <td>0</td>\n",
       "      <td>0</td>\n",
       "      <td>0</td>\n",
       "      <td>0</td>\n",
       "      <td>0</td>\n",
       "      <td>1</td>\n",
       "    </tr>\n",
       "    <tr>\n",
       "      <th>358808</th>\n",
       "      <td>0</td>\n",
       "      <td>25</td>\n",
       "      <td>6</td>\n",
       "      <td>0</td>\n",
       "      <td>0</td>\n",
       "      <td>0</td>\n",
       "      <td>0</td>\n",
       "      <td>0</td>\n",
       "      <td>1</td>\n",
       "      <td>0</td>\n",
       "      <td>...</td>\n",
       "      <td>0</td>\n",
       "      <td>0</td>\n",
       "      <td>0</td>\n",
       "      <td>0</td>\n",
       "      <td>1</td>\n",
       "      <td>0</td>\n",
       "      <td>0</td>\n",
       "      <td>0</td>\n",
       "      <td>0</td>\n",
       "      <td>1</td>\n",
       "    </tr>\n",
       "    <tr>\n",
       "      <th>358809</th>\n",
       "      <td>0</td>\n",
       "      <td>12</td>\n",
       "      <td>5</td>\n",
       "      <td>0</td>\n",
       "      <td>0</td>\n",
       "      <td>0</td>\n",
       "      <td>0</td>\n",
       "      <td>1</td>\n",
       "      <td>0</td>\n",
       "      <td>0</td>\n",
       "      <td>...</td>\n",
       "      <td>0</td>\n",
       "      <td>0</td>\n",
       "      <td>1</td>\n",
       "      <td>0</td>\n",
       "      <td>0</td>\n",
       "      <td>0</td>\n",
       "      <td>0</td>\n",
       "      <td>0</td>\n",
       "      <td>0</td>\n",
       "      <td>1</td>\n",
       "    </tr>\n",
       "  </tbody>\n",
       "</table>\n",
       "<p>358810 rows × 129 columns</p>\n",
       "</div>"
      ],
      "text/plain": [
       "        Consumer disputed?  Day  Month  Product_0  \\\n",
       "0                        0   14     10          0   \n",
       "1                        1   26      4          0   \n",
       "2                        0   20     12          0   \n",
       "3                        0    3      3          0   \n",
       "4                        1   30      1          0   \n",
       "...                    ...  ...    ...        ...   \n",
       "358805                   0    0      0          1   \n",
       "358806                   0   14      3          0   \n",
       "358807                   1    1      2          0   \n",
       "358808                   0   25      6          0   \n",
       "358809                   0   12      5          0   \n",
       "\n",
       "        Product_Bank account or service  Product_Consumer Loan  \\\n",
       "0                                     0                      0   \n",
       "1                                     1                      0   \n",
       "2                                     0                      0   \n",
       "3                                     0                      0   \n",
       "4                                     0                      0   \n",
       "...                                 ...                    ...   \n",
       "358805                                0                      0   \n",
       "358806                                0                      0   \n",
       "358807                                0                      0   \n",
       "358808                                0                      0   \n",
       "358809                                0                      0   \n",
       "\n",
       "        Product_Credit card  Product_Credit reporting  \\\n",
       "0                         0                         1   \n",
       "1                         0                         0   \n",
       "2                         1                         0   \n",
       "3                         0                         0   \n",
       "4                         0                         0   \n",
       "...                     ...                       ...   \n",
       "358805                    0                         0   \n",
       "358806                    0                         0   \n",
       "358807                    1                         0   \n",
       "358808                    0                         0   \n",
       "358809                    0                         1   \n",
       "\n",
       "        Product_Debt collection  Product_Money transfers  ...  \\\n",
       "0                             0                        0  ...   \n",
       "1                             0                        0  ...   \n",
       "2                             0                        0  ...   \n",
       "3                             1                        0  ...   \n",
       "4                             1                        0  ...   \n",
       "...                         ...                      ...  ...   \n",
       "358805                        0                        0  ...   \n",
       "358806                        0                        0  ...   \n",
       "358807                        0                        0  ...   \n",
       "358808                        1                        0  ...   \n",
       "358809                        0                        0  ...   \n",
       "\n",
       "        Company response to consumer_0  Company response to consumer_Closed  \\\n",
       "0                                    0                                    0   \n",
       "1                                    0                                    0   \n",
       "2                                    0                                    0   \n",
       "3                                    0                                    0   \n",
       "4                                    0                                    0   \n",
       "...                                ...                                  ...   \n",
       "358805                               1                                    0   \n",
       "358806                               0                                    0   \n",
       "358807                               0                                    1   \n",
       "358808                               0                                    0   \n",
       "358809                               0                                    0   \n",
       "\n",
       "        Company response to consumer_Closed with explanation  \\\n",
       "0                                                       1      \n",
       "1                                                       1      \n",
       "2                                                       0      \n",
       "3                                                       1      \n",
       "4                                                       1      \n",
       "...                                                   ...      \n",
       "358805                                                  0      \n",
       "358806                                                  0      \n",
       "358807                                                  0      \n",
       "358808                                                  0      \n",
       "358809                                                  1      \n",
       "\n",
       "        Company response to consumer_Closed with monetary relief  \\\n",
       "0                                                       0          \n",
       "1                                                       0          \n",
       "2                                                       0          \n",
       "3                                                       0          \n",
       "4                                                       0          \n",
       "...                                                   ...          \n",
       "358805                                                  0          \n",
       "358806                                                  0          \n",
       "358807                                                  0          \n",
       "358808                                                  0          \n",
       "358809                                                  0          \n",
       "\n",
       "        Company response to consumer_Closed with non-monetary relief  \\\n",
       "0                                                       0              \n",
       "1                                                       0              \n",
       "2                                                       1              \n",
       "3                                                       0              \n",
       "4                                                       0              \n",
       "...                                                   ...              \n",
       "358805                                                  0              \n",
       "358806                                                  1              \n",
       "358807                                                  0              \n",
       "358808                                                  1              \n",
       "358809                                                  0              \n",
       "\n",
       "        Company response to consumer_Closed with relief  \\\n",
       "0                                                     0   \n",
       "1                                                     0   \n",
       "2                                                     0   \n",
       "3                                                     0   \n",
       "4                                                     0   \n",
       "...                                                 ...   \n",
       "358805                                                0   \n",
       "358806                                                0   \n",
       "358807                                                0   \n",
       "358808                                                0   \n",
       "358809                                                0   \n",
       "\n",
       "        Company response to consumer_Closed without relief  \\\n",
       "0                                                       0    \n",
       "1                                                       0    \n",
       "2                                                       0    \n",
       "3                                                       0    \n",
       "4                                                       0    \n",
       "...                                                   ...    \n",
       "358805                                                  0    \n",
       "358806                                                  0    \n",
       "358807                                                  0    \n",
       "358808                                                  0    \n",
       "358809                                                  0    \n",
       "\n",
       "        Timely response?_0  Timely response?_No  Timely response?_Yes  \n",
       "0                        0                    0                     1  \n",
       "1                        0                    0                     1  \n",
       "2                        0                    0                     1  \n",
       "3                        0                    0                     1  \n",
       "4                        0                    0                     1  \n",
       "...                    ...                  ...                   ...  \n",
       "358805                   1                    0                     0  \n",
       "358806                   0                    0                     1  \n",
       "358807                   0                    0                     1  \n",
       "358808                   0                    0                     1  \n",
       "358809                   0                    0                     1  \n",
       "\n",
       "[358810 rows x 129 columns]"
      ]
     },
     "execution_count": 5,
     "metadata": {},
     "output_type": "execute_result"
    }
   ],
   "source": [
    "train_new = pd.get_dummies(train_new)\n",
    "train_new"
   ]
  },
  {
   "cell_type": "code",
   "execution_count": 6,
   "id": "da4b671a",
   "metadata": {},
   "outputs": [],
   "source": [
    "X = train_new.drop(train_new.columns[[5]], axis=1)\n",
    "y = train_new['Consumer disputed?']"
   ]
  },
  {
   "cell_type": "markdown",
   "id": "7c655022",
   "metadata": {},
   "source": [
    "### Scaling the Data Sets"
   ]
  },
  {
   "cell_type": "code",
   "execution_count": 7,
   "id": "020073a9",
   "metadata": {},
   "outputs": [],
   "source": [
    "from sklearn.preprocessing import StandardScaler\n",
    "scaler = StandardScaler()\n",
    "model = scaler.fit(X)\n",
    "X_scaled = model.transform(X)"
   ]
  },
  {
   "cell_type": "markdown",
   "id": "d659bfd8",
   "metadata": {},
   "source": [
    "### Making feature Selection with the help of PCA up to 80% of the information"
   ]
  },
  {
   "cell_type": "code",
   "execution_count": 8,
   "id": "eec147a6",
   "metadata": {},
   "outputs": [],
   "source": [
    "from sklearn.decomposition import PCA\n",
    "pca = PCA(0.80)\n",
    "X_pca = pca.fit_transform(X_scaled)"
   ]
  },
  {
   "cell_type": "markdown",
   "id": "a8f79e20",
   "metadata": {},
   "source": [
    "### Splittingthe Data Sets Into X and Y by the dependent and independent variables"
   ]
  },
  {
   "cell_type": "code",
   "execution_count": 9,
   "id": "973aeecd",
   "metadata": {},
   "outputs": [],
   "source": [
    "from sklearn.model_selection import train_test_split as split\n",
    "X_train, X_test, y_train, y_test = split(X_pca, y, test_size = 0.2, random_state = 30)"
   ]
  },
  {
   "cell_type": "markdown",
   "id": "2ca4cbfa",
   "metadata": {},
   "source": [
    "### Logistic Regression"
   ]
  },
  {
   "cell_type": "code",
   "execution_count": 12,
   "id": "fc6bdab8",
   "metadata": {},
   "outputs": [
    {
     "name": "stdout",
     "output_type": "stream",
     "text": [
      "Accuracy_Logistic_Regression :  0.97\n"
     ]
    }
   ],
   "source": [
    "import numpy as np\n",
    "import matplotlib.pyplot as plt\n",
    "\n",
    "\n",
    "#Logistic regression\n",
    "\n",
    "from sklearn.linear_model import LogisticRegression\n",
    "classifier = LogisticRegression(random_state = 0)\n",
    "classifier.fit(X_train, y_train)\n",
    "\n",
    "y_pred = classifier.predict(X_test)\n",
    "\n",
    "from sklearn.metrics import accuracy_score\n",
    "Accuracy_Logistic = accuracy_score(y_test, y_pred)\n",
    "\n",
    "print (\"Accuracy_Logistic_Regression : \", round(Accuracy_Logistic,2))\n"
   ]
  },
  {
   "cell_type": "markdown",
   "id": "37010f21",
   "metadata": {},
   "source": [
    "### Decision Tree Classifier"
   ]
  },
  {
   "cell_type": "code",
   "execution_count": 14,
   "id": "685f88a6",
   "metadata": {},
   "outputs": [
    {
     "name": "stdout",
     "output_type": "stream",
     "text": [
      "Accuracy_DecisionTree        :  0.9\n"
     ]
    }
   ],
   "source": [
    "#Decision Tree Classifier\n",
    "from sklearn.tree import DecisionTreeClassifier\n",
    "\n",
    "dtc = DecisionTreeClassifier(criterion = \"entropy\", random_state = 100,\n",
    "            max_depth = 3, min_samples_leaf = 5)\n",
    "dtc.fit(X_train, y_train)\n",
    "\n",
    "y_predi = dtc.predict(X_test)\n",
    "Accuracy_dtc = accuracy_score(y_test,y_predi)\n",
    "\n",
    "print (\"Accuracy_DecisionTree        : \", round(Accuracy_dtc,2))"
   ]
  },
  {
   "cell_type": "markdown",
   "id": "39ff633e",
   "metadata": {},
   "source": [
    "### Random Forest Classifier"
   ]
  },
  {
   "cell_type": "code",
   "execution_count": null,
   "id": "1a7e3c7d",
   "metadata": {},
   "outputs": [],
   "source": [
    "#random Forest Classifier\n",
    "from sklearn.ensemble import RandomForestClassifier\n",
    "clf = RandomForestClassifier(n_estimators= 50)\n",
    "clf.fit(X_train,y_train)\n",
    "\n",
    "y_predict = clf.predict(X_test)\n",
    "\n",
    "Accuracy_RFC = accuracy_score(y_test,y_predict)\n",
    "\n",
    "print (\"Accuracy_RandomForest        : \", round(Accuracy_RFC,2))"
   ]
  },
  {
   "cell_type": "markdown",
   "id": "62e4ef74",
   "metadata": {},
   "source": [
    "### K Nearest Neigbors"
   ]
  },
  {
   "cell_type": "code",
   "execution_count": null,
   "id": "6cefaff8",
   "metadata": {},
   "outputs": [],
   "source": [
    "#KNearest Neigbors\n",
    "from sklearn.neighbors import KNeighborsClassifier\n",
    "knn = KNeighborsClassifier(n_neighbors = 5)\n",
    "knn.fit(X_train, y_train)\n",
    "\n",
    "y_preds = knn.predict(X_test)\n",
    "\n",
    "Accuracy_knn = accuracy_score(y_test,y_preds)\n",
    "\n",
    "\n",
    "print (\"Accuracy_KNearestNeigbor     : \", round(Accuracy_knn,2))"
   ]
  },
  {
   "cell_type": "markdown",
   "id": "189b2ab7",
   "metadata": {},
   "source": [
    "### Adaboost Classifier"
   ]
  },
  {
   "cell_type": "code",
   "execution_count": 45,
   "id": "7b4c3e07",
   "metadata": {},
   "outputs": [
    {
     "name": "stdout",
     "output_type": "stream",
     "text": [
      "Accuracy score for Adaboost Boosting Cassifier:  0.9764638666703827\n"
     ]
    }
   ],
   "source": [
    "# Adaboost Classifier\n",
    "\n",
    "from sklearn.ensemble import AdaBoostClassifier\n",
    "from sklearn.metrics import accuracy_score\n",
    "\n",
    "abc = AdaBoostClassifier(n_estimators=50, learning_rate=1, random_state=0)\n",
    "model1 = abc.fit(X_train, y_train)\n",
    "\n",
    "y_pred = model1.predict(X_test)\n",
    "print(\"Accuracy score for Adaboost Boosting Cassifier: \" , accuracy_score(y_test, y_pred))"
   ]
  },
  {
   "cell_type": "markdown",
   "id": "3a1d4300",
   "metadata": {},
   "source": [
    "### Gradient Boosting Classifier"
   ]
  },
  {
   "cell_type": "code",
   "execution_count": 36,
   "id": "b735d302",
   "metadata": {},
   "outputs": [
    {
     "name": "stdout",
     "output_type": "stream",
     "text": [
      "Accuracy score for Gradient Boosting Cassifier:  0.9302973718681197\n"
     ]
    }
   ],
   "source": [
    "# Gradient Boosting Classifier\n",
    "\n",
    "\n",
    "from sklearn.ensemble import GradientBoostingClassifier\n",
    "lr_list = [0.05, 0.075, 0.1, 0.25, 0.5, 0.75, 1]\n",
    "\n",
    "for learning_rate in lr_list:\n",
    "    gb_clf = GradientBoostingClassifier(n_estimators=20, learning_rate=learning_rate, max_features=2, max_depth=2, random_state=0)\n",
    "    gb_clf.fit(X_train, y_train)\n",
    "    \n",
    "print(\"Accuracy score for Gradient Boosting Cassifier: \" , gb_clf.score(X_test, y_test))"
   ]
  },
  {
   "cell_type": "code",
   "execution_count": 41,
   "id": "a68c4f65",
   "metadata": {},
   "outputs": [
    {
     "name": "stdout",
     "output_type": "stream",
     "text": [
      "Collecting xgboost\n",
      "  Downloading xgboost-1.7.2-py3-none-win_amd64.whl (89.1 MB)\n",
      "Requirement already satisfied: scipy in c:\\users\\madhu\\anaconda3\\lib\\site-packages (from xgboost) (1.7.3)\n",
      "Requirement already satisfied: numpy in c:\\users\\madhu\\anaconda3\\lib\\site-packages (from xgboost) (1.21.5)\n",
      "Installing collected packages: xgboost\n",
      "Successfully installed xgboost-1.7.2\n",
      "Note: you may need to restart the kernel to use updated packages.\n"
     ]
    }
   ],
   "source": [
    "pip install xgboost"
   ]
  },
  {
   "cell_type": "markdown",
   "id": "a4e56e7d",
   "metadata": {},
   "source": [
    "### XGB classifier"
   ]
  },
  {
   "cell_type": "code",
   "execution_count": 43,
   "id": "6159bc4d",
   "metadata": {},
   "outputs": [
    {
     "name": "stdout",
     "output_type": "stream",
     "text": [
      "Accuracy score for XGB Cassifier:  0.9996237563055657\n"
     ]
    }
   ],
   "source": [
    "# XGB classifier\n",
    "\n",
    "from xgboost import XGBClassifier\n",
    "xgb_clf = XGBClassifier()\n",
    "xgb_clf.fit(X_train, y_train)\n",
    "\n",
    "\n",
    "score = xgb_clf.score(X_test, y_test)\n",
    "print(\"Accuracy score for XGB Cassifier: \" , xgb_clf.score(X_test, y_test))"
   ]
  },
  {
   "cell_type": "markdown",
   "id": "6c18c4da",
   "metadata": {},
   "source": [
    "## XGB Classifier is having the highest accuracy (0.99) among all the Classifiers"
   ]
  }
 ],
 "metadata": {
  "kernelspec": {
   "display_name": "Python 3 (ipykernel)",
   "language": "python",
   "name": "python3"
  },
  "language_info": {
   "codemirror_mode": {
    "name": "ipython",
    "version": 3
   },
   "file_extension": ".py",
   "mimetype": "text/x-python",
   "name": "python",
   "nbconvert_exporter": "python",
   "pygments_lexer": "ipython3",
   "version": "3.9.12"
  }
 },
 "nbformat": 4,
 "nbformat_minor": 5
}
